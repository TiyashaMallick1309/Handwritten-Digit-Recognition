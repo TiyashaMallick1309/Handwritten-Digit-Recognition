{
 "cells": [
  {
   "cell_type": "code",
   "execution_count": 91,
   "metadata": {},
   "outputs": [],
   "source": [
    "import streamlit as st\n",
    "import numpy as np\n",
    "import cv2\n",
    "import tensorflow as tf\n",
    "from tensorflow.keras.models import load_model\n",
    "from streamlit_drawable_canvas import st_canvas\n",
    "import matplotlib.pyplot as plt\n",
    "from PIL import Image, ImageOps\n"
   ]
  },
  {
   "cell_type": "code",
   "execution_count": 92,
   "metadata": {},
   "outputs": [],
   "source": [
    "# Load the Keras model\n",
    "model = tf.keras.models.load_model('best_model.h5')"
   ]
  },
  {
   "cell_type": "code",
   "execution_count": 93,
   "metadata": {},
   "outputs": [],
   "source": [
    "# Define the canvas size and stroke width\n",
    "canvas_width = 300\n",
    "canvas_height = 300\n",
    "stroke_width = 10"
   ]
  },
  {
   "cell_type": "code",
   "execution_count": 94,
   "metadata": {},
   "outputs": [],
   "source": [
    "# Define the drawing mode\n",
    "drawing_mode = st.sidebar.selectbox(\"Drawing mode\", [\"freedraw\", \"transform\"])"
   ]
  },
  {
   "cell_type": "code",
   "execution_count": 95,
   "metadata": {},
   "outputs": [],
   "source": [
    "# Define a function to preprocess the image for the model\n",
    "def preprocess_image(image):\n",
    "    image = ImageOps.grayscale(image)\n",
    "    image = image.resize((28, 28))\n",
    "    image_array = np.array(image)\n",
    "    image_array = image_array.astype('float32') / 255.0\n",
    "    image_array = np.expand_dims(image_array, axis=0)\n",
    "    return image_array"
   ]
  },
  {
   "cell_type": "code",
   "execution_count": 96,
   "metadata": {},
   "outputs": [],
   "source": [
    "# Define a function to get a prediction from the model\n",
    "def predict_digit(image):\n",
    "    image_array = preprocess_image(image)\n",
    "    prediction = model.predict(image_array)\n",
    "    digit = np.argmax(prediction)\n",
    "    return digit"
   ]
  },
  {
   "cell_type": "code",
   "execution_count": 97,
   "metadata": {},
   "outputs": [],
   "source": [
    "# Create the Streamlit app\n",
    "def main():\n",
    "    st.title(\"Sketchboard\")\n",
    "    # Create a canvas for drawing\n",
    "    canvas = st_canvas(\n",
    "        fill_color=\"white\",\n",
    "        stroke_width=stroke_width,\n",
    "        stroke_color=\"black\",\n",
    "        background_color=\"white\",\n",
    "        height=canvas_height,\n",
    "        width=canvas_width,\n",
    "        drawing_mode=drawing_mode,\n",
    "        key=\"canvas\",\n",
    "    )\n",
    "    # Get the image from the canvas\n",
    "    if canvas.image_data is not None:\n",
    "        image = Image.fromarray(canvas.image_data.astype('uint8'), 'RGBA').convert('L')\n",
    "        st.image(image, width=150, caption=\"Drawn digit\")\n",
    "        digit = predict_digit(image)\n",
    "        st.write(f\"Predicted digit: {digit}\")"
   ]
  },
  {
   "cell_type": "code",
   "execution_count": 99,
   "metadata": {},
   "outputs": [],
   "source": [
    "if __name__ == \"__main__\":\n",
    "    main()"
   ]
  }
 ],
 "metadata": {
  "kernelspec": {
   "display_name": "base",
   "language": "python",
   "name": "python3"
  },
  "language_info": {
   "codemirror_mode": {
    "name": "ipython",
    "version": 3
   },
   "file_extension": ".py",
   "mimetype": "text/x-python",
   "name": "python",
   "nbconvert_exporter": "python",
   "pygments_lexer": "ipython3",
   "version": "3.9.13"
  },
  "orig_nbformat": 4
 },
 "nbformat": 4,
 "nbformat_minor": 2
}
